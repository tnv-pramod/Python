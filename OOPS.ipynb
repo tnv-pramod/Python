{
  "nbformat": 4,
  "nbformat_minor": 0,
  "metadata": {
    "colab": {
      "provenance": [],
      "authorship_tag": "ABX9TyOHv0D9T+MHX/aooWaAmgxh",
      "include_colab_link": true
    },
    "kernelspec": {
      "name": "python3",
      "display_name": "Python 3"
    },
    "language_info": {
      "name": "python"
    }
  },
  "cells": [
    {
      "cell_type": "markdown",
      "metadata": {
        "id": "view-in-github",
        "colab_type": "text"
      },
      "source": [
        "<a href=\"https://colab.research.google.com/github/tnv-pramod/Python/blob/me/OOPS.ipynb\" target=\"_parent\"><img src=\"https://colab.research.google.com/assets/colab-badge.svg\" alt=\"Open In Colab\"/></a>"
      ]
    },
    {
      "cell_type": "code",
      "execution_count": null,
      "metadata": {
        "id": "-0Y2IkdXv9-A",
        "outputId": "18486a9b-eec7-47bb-c08c-82e1b001a174",
        "colab": {
          "base_uri": "https://localhost:8080/"
        }
      },
      "outputs": [
        {
          "output_type": "stream",
          "name": "stdout",
          "text": [
            "<__main__.MyFirstClass object at 0x7f81b4c1e4d0>\n",
            "10\n",
            "<__main__.MyFirstClass object at 0x7f81b4c1f2e0>\n",
            "10\n"
          ]
        }
      ],
      "source": [
        "class MyFirstClass():\n",
        "    #Class Attributes or variables\n",
        "    var = 10\n",
        "\n",
        "firstObject = MyFirstClass()\n",
        "print(firstObject)      #Printing object's memory hex\n",
        "print(firstObject.var)  #Accessing Class Attributes\n",
        "\n",
        "secondObject = MyFirstClass()\n",
        "print(secondObject)\n",
        "print(secondObject.var)"
      ]
    },
    {
      "cell_type": "markdown",
      "source": [
        "#__init__(constructor):In Python, __init__ is a special method, also known as a constructor, that is automatically called when a new object of a class is created. It is used to initialize the attributes of the object.\n",
        "\n",
        "1)By convention, the first parameter of __init__ and other instance methods in a class is always self, which refers to the instance of the class itself. It allows you to access and modify the object's attributes within the methods."
      ],
      "metadata": {
        "id": "afQg5gvkSOr9"
      }
    },
    {
      "cell_type": "code",
      "source": [
        "#This example shows the use of __init__ constructor\n",
        "\n",
        "class Vehicle():\n",
        "    #__init__ is used to set values as soon as new object are created\n",
        "    #__init__ is a keyword hence it has to be named like it is\n",
        "    def __init__(self):     #called automatically hence known as magic method\n",
        "        print('Calling init')\n",
        "        self.val = 0\n",
        "        self.cost = 10000   #Setting the default value when the object is created\n",
        "\n",
        "    def incrementVehicle(self):\n",
        "        self.val += 1\n",
        "\n",
        "\n",
        "car = Vehicle()     #__init__ is called\n",
        "print('First obj value:',car.val)\n",
        "car.incrementVehicle()\n",
        "car.incrementVehicle()\n",
        "print('First obj value after incrementing:',car.val)      #2\n",
        "\n",
        "bike = Vehicle()       #__init__ is called makes val 0 for this ANOTHER instance\n",
        "print('Second obj value:',bike.val)"
      ],
      "metadata": {
        "id": "GBA3hTK0Av5a",
        "outputId": "03389480-ca78-4db9-94b8-3404a5e2394e",
        "colab": {
          "base_uri": "https://localhost:8080/"
        }
      },
      "execution_count": 9,
      "outputs": [
        {
          "output_type": "stream",
          "name": "stdout",
          "text": [
            "Calling init\n",
            "First obj value: 0\n",
            "First obj value after incrementing: 2\n",
            "Calling init\n",
            "Second obj value: 0\n"
          ]
        }
      ]
    },
    {
      "cell_type": "code",
      "source": [
        "class Person:\n",
        "    def __init__(self,name,age):\n",
        "        self.name = name           #object\n",
        "        self.age = age             #object\n",
        "\n",
        "    def introduce(self):\n",
        "        print(f\"Hello, my name is {self.name} and I am {self.age} years old.\")\n",
        "\n",
        "\n",
        "# Creating an instance of the Person class\n",
        "person1 = Person(23,\"alice\")\n",
        "person2=Person(\"alice\",20)\n",
        "# Accessing attributes of the person1 object\n",
        "print(person1.name)  # Output: 23\n",
        "print(person1.age)   # Output: \"alice\"\n",
        "print(person2.name)  # output: \"alice\"\n",
        "print(person2.age)   # output= 20\n",
        "# Calling the introduce method of person1 object\n",
        "person1.introduce()  # Output: Hello, my name is Alice and I am 25 years old.\n"
      ],
      "metadata": {
        "colab": {
          "base_uri": "https://localhost:8080/"
        },
        "id": "QUoKI3BrTUU6",
        "outputId": "eb2da26b-651a-47e9-be54-276e31671292"
      },
      "execution_count": null,
      "outputs": [
        {
          "output_type": "stream",
          "name": "stdout",
          "text": [
            "23\n",
            "alice\n",
            "alice\n",
            "20\n",
            "Hello, my name is 23 and I am alice years old.\n"
          ]
        }
      ]
    },
    {
      "cell_type": "code",
      "source": [
        "class computer:\n",
        "  def __init__(self):\n",
        "    self.name=\"pramod\"\n",
        "    self.age=20\n",
        "c1=computer()\n",
        "c2=computer()\n",
        "print(c1.name)\n",
        "print(c2.name)"
      ],
      "metadata": {
        "colab": {
          "base_uri": "https://localhost:8080/"
        },
        "id": "5F4NJ5ozP0Mi",
        "outputId": "4a59453d-f606-4697-cab7-2a1f6c6d00a6"
      },
      "execution_count": null,
      "outputs": [
        {
          "output_type": "stream",
          "name": "stdout",
          "text": [
            "pramod\n",
            "pramod\n"
          ]
        }
      ]
    },
    {
      "cell_type": "code",
      "source": [
        "class computer():\n",
        "  def __init__(self):\n",
        "    self.name=\"pramod\"\n",
        "    self.age=20\n",
        "   \n",
        "c1=computer()\n",
        "c2=computer()\n",
        "c1.name=\"tnv\"\n",
        "print(c1.name)\n",
        "print(c2.name)"
      ],
      "metadata": {
        "colab": {
          "base_uri": "https://localhost:8080/"
        },
        "id": "uJeRZSEQU560",
        "outputId": "75fdcec5-0142-46fc-98e6-eb20e041ba99"
      },
      "execution_count": null,
      "outputs": [
        {
          "output_type": "stream",
          "name": "stdout",
          "text": [
            "tnv\n",
            "pramod\n"
          ]
        }
      ]
    },
    {
      "cell_type": "markdown",
      "source": [
        "#Types of variables\n",
        "1)instance variable:as the object changes the values are also changes\n",
        "    \n",
        "                    defined inside the function\n",
        "\n",
        "2)class(or)static variable:as the object changes the value doesn't change\n",
        " \n",
        "                    defined outside the function"
      ],
      "metadata": {
        "id": "niatkIDtXGvG"
      }
    },
    {
      "cell_type": "code",
      "source": [
        "#In this example we will be seeing how instance Attributes are used\n",
        "#Instance attributes are accessed by: object.attribute\n",
        "#Attributes are looked First in the instance and THEN in the class\n",
        "\n",
        "import random\n",
        "class Vehicle():\n",
        "    #Class Methods/ Attributes\n",
        "    def type(self):\n",
        "        #NOTE: This is not a class attribute as the variable is binded to self. Hence it becomes\n",
        "        #instance attribute\n",
        "        self.randomValue = random.randint(1,10) #Setting the instance attribute\n",
        "\n",
        "car = Vehicle()\n",
        "car.type()              #Calling the class Method\n",
        "print(car.randomValue)  #Calling the instance attribute"
      ],
      "metadata": {
        "id": "Lml0Dp1P8yJp",
        "outputId": "762dd783-6d43-47ee-a310-97137e77d959",
        "colab": {
          "base_uri": "https://localhost:8080/"
        }
      },
      "execution_count": 8,
      "outputs": [
        {
          "output_type": "stream",
          "name": "stdout",
          "text": [
            "2\n"
          ]
        }
      ]
    },
    {
      "cell_type": "code",
      "source": [
        "class car:\n",
        "   wheels=4                           #class variable\n",
        "   def __init__(self):\n",
        "    self.mil=10                       #instance variable\n",
        "    self.company=\"bmw\"                #instance variable\n",
        "c1=car()\n",
        "c2=car()\n",
        "c1.mil=8\n",
        "print(c1.company,c1.mil,c1.wheels)\n",
        "print(c2.company,c2.mil,c2.wheels)\n"
      ],
      "metadata": {
        "colab": {
          "base_uri": "https://localhost:8080/"
        },
        "id": "c1OCQ5TbWHCK",
        "outputId": "4d8e81f4-b52c-4441-b3d3-1b43fbd9eff7"
      },
      "execution_count": null,
      "outputs": [
        {
          "output_type": "stream",
          "name": "stdout",
          "text": [
            "bmw 8 4\n",
            "bmw 10 4\n"
          ]
        }
      ]
    },
    {
      "cell_type": "markdown",
      "source": [
        "#Types of methods\n",
        "1)instance methods:In Python, an instance method is a regular method defined within a class that operates on an instance of that class. Instance methods are the most common type of method in Python classes and are used to perform actions specific to individual instances of the class.\n",
        "They are defined with the self parameter, which refers to the instance of the class itself. Inside these methods"
      ],
      "metadata": {
        "id": "V3lwQvFMe9Ig"
      }
    },
    {
      "cell_type": "code",
      "source": [
        "#In this example we will be seeing how instance methods are used\n",
        "#Instance methods are accessed by: instance.method()\n",
        "class Vehicle():\n",
        "    #Class Methods/ Attributes\n",
        "\n",
        "    #Here self is passed as an argument because instance is passed as first argument\n",
        "    def type(self):     #Without self it throws an error\n",
        "        print(self)\n",
        "        print('I have a type')\n",
        "car = Vehicle()\n",
        "print(car)    #only gives <__main__.Vehicle object at 0x7f1a322e8400>\n",
        "car.type()    #<__main__.Vehicle object at 0x7f1a322e8400>\n",
        "              #I have a type"
      ],
      "metadata": {
        "id": "-LhosCeI4s5E",
        "outputId": "becb8bd3-4cd3-49fd-b80f-d69689a5ebba",
        "colab": {
          "base_uri": "https://localhost:8080/"
        }
      },
      "execution_count": 7,
      "outputs": [
        {
          "output_type": "stream",
          "name": "stdout",
          "text": [
            "<__main__.Vehicle object at 0x7f1a322e8400>\n",
            "<__main__.Vehicle object at 0x7f1a322e8400>\n",
            "I have a type\n"
          ]
        }
      ]
    },
    {
      "cell_type": "code",
      "source": [
        "class Circle:\n",
        "    def __init__(self, radius):                                                     \n",
        "        self.radius = radius\n",
        "\n",
        "    def calculate_area(self):\n",
        "        area = 3.14 * (self.radius ** 2)\n",
        "        return area\n",
        "\n",
        "    def calculate_circumference(self):                #The calculate_area and calculate_circumference methods are instance methods. \n",
        "          circumference = 2 * 3.14 * self.radius\n",
        "          return circumference\n",
        "                                                      #They are defined with the self parameter, which refers to the instance of the class itself.\n",
        "                                                      #Inside these methods, we can access and utilize the instance attributes (such as self.radius) and perform calculations based on them\n",
        "\n",
        "\n",
        "# Creating an instance of the Circle class\n",
        "circle1 = Circle(5)\n",
        "\n",
        "# Calling instance methods on circle1\n",
        "area = circle1.calculate_area()\n",
        "print(\"Area:\", area)  # Output: Area: 78.5\n",
        "\n",
        "circumference = circle1.calculate_circumference()\n",
        "print(\"Circumference:\", circumference)  # Output: Circumference: 31.400000000000002\n"
      ],
      "metadata": {
        "colab": {
          "base_uri": "https://localhost:8080/"
        },
        "id": "_rroeWjBhVU6",
        "outputId": "c62b6b57-28ff-4fa0-c504-b37a8c27b448"
      },
      "execution_count": null,
      "outputs": [
        {
          "output_type": "stream",
          "name": "stdout",
          "text": [
            "Area: 78.5\n",
            "Circumference: 31.400000000000002\n"
          ]
        }
      ]
    }
  ]
}