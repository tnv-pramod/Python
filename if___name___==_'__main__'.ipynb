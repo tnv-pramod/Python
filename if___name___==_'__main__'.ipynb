{
  "nbformat": 4,
  "nbformat_minor": 0,
  "metadata": {
    "colab": {
      "provenance": [],
      "authorship_tag": "ABX9TyM7SswFKciIH7aRvJ3OvQt/",
      "include_colab_link": true
    },
    "kernelspec": {
      "name": "python3",
      "display_name": "Python 3"
    },
    "language_info": {
      "name": "python"
    }
  },
  "cells": [
    {
      "cell_type": "markdown",
      "metadata": {
        "id": "view-in-github",
        "colab_type": "text"
      },
      "source": [
        "<a href=\"https://colab.research.google.com/github/tnv-pramod/Python/blob/me/if___name___%3D%3D_'__main__'.ipynb\" target=\"_parent\"><img src=\"https://colab.research.google.com/assets/colab-badge.svg\" alt=\"Open In Colab\"/></a>"
      ]
    },
    {
      "cell_type": "markdown",
      "source": [
        "The if __name__ == '__main__': block in Python is used to determine whether the current script is being executed as the main module or if it is being imported as a module into another script.\n",
        "\n",
        "When a Python script is run directly, as the main module, the __name__ variable is set to '__main__'. On the other hand, if a script is imported as a module into another script, the __name__ variable is set to the name of the module.\n",
        "\n",
        "The if __name__ == '__main__': block allows you to include code that will only be executed when the script is run directly, and not when it is imported as a module."
      ],
      "metadata": {
        "id": "QObF1Uh7WhqQ"
      }
    },
    {
      "cell_type": "code",
      "source": [
        "# module.py\n",
        "def some_function():\n",
        "    print(\"This is some_function() in module.py\")\n",
        "\n",
        "print(\"This is executed when module.py is imported\")\n",
        "\n",
        "if __name__ == '__main__':\n",
        "    print(\"This is executed when module.py is run directly\")"
      ],
      "metadata": {
        "colab": {
          "base_uri": "https://localhost:8080/"
        },
        "id": "5Ercvyr8Wxdu",
        "outputId": "602653db-2905-4b32-ee82-19c937bc08cb"
      },
      "execution_count": 1,
      "outputs": [
        {
          "output_type": "stream",
          "name": "stdout",
          "text": [
            "This is executed when module.py is imported\n",
            "This is executed when module.py is run directly\n"
          ]
        }
      ]
    },
    {
      "cell_type": "code",
      "source": [
        "# main.py\n",
        "import module\n",
        "\n",
        "module.some_function()  # Output: This is some_function() in module.py"
      ],
      "metadata": {
        "id": "3yvHzmVkW9Ms"
      },
      "execution_count": null,
      "outputs": []
    },
    {
      "cell_type": "markdown",
      "source": [
        "When you run module.py directly, the output will be:\n",
        "\n",
        "This is executed when module.py is imported\n",
        "\n",
        "This is executed when module.py is run directly\n",
        "\n",
        "However, when you run main.py, which imports module.py, the output will be:\n",
        "\n",
        "This is executed when module.py is imported\n",
        "\n",
        "This is some_function() in module.py"
      ],
      "metadata": {
        "id": "6GXN6MHuXEZQ"
      }
    },
    {
      "cell_type": "markdown",
      "source": [
        "The code inside the if __name__ == '__main__': block is useful for including script-specific tests, demonstrations, or any code that should only run when the script is executed directly.\n",
        "\n",
        "This construct allows you to have both reusable modules and executable scripts, ensuring that certain code blocks are only executed when the script is intended to be run independently."
      ],
      "metadata": {
        "id": "d16Kc3ckXS91"
      }
    }
  ]
}